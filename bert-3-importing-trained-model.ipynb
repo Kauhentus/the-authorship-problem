{
 "cells": [
  {
   "cell_type": "code",
   "execution_count": 2,
   "metadata": {},
   "outputs": [],
   "source": [
    "import torch\n",
    "import json\n",
    "import numpy as np\n",
    "import os\n",
    "os.environ[\"KMP_DUPLICATE_LIB_OK\"] = \"TRUE\""
   ]
  },
  {
   "cell_type": "code",
   "execution_count": null,
   "metadata": {},
   "outputs": [
    {
     "name": "stderr",
     "output_type": "stream",
     "text": [
      "C:\\Users\\kauhe\\AppData\\Local\\Temp\\ipykernel_7220\\913544224.py:5: FutureWarning: You are using `torch.load` with `weights_only=False` (the current default value), which uses the default pickle module implicitly. It is possible to construct malicious pickle data which will execute arbitrary code during unpickling (See https://github.com/pytorch/pytorch/blob/main/SECURITY.md#untrusted-models for more details). In a future release, the default value for `weights_only` will be flipped to `True`. This limits the functions that could be executed during unpickling. Arbitrary objects will no longer be allowed to be loaded via this mode unless they are explicitly allowlisted by the user via `torch.serialization.add_safe_globals`. We recommend you start setting `weights_only=True` for any use case where you don't have full control of the loaded file. Please open an issue on GitHub for any issues related to this experimental feature.\n",
      "  model = torch.load('./torch-cache/test3.ckpt', map_location=torch.device('cpu'))\n"
     ]
    },
    {
     "name": "stdout",
     "output_type": "stream",
     "text": [
      "Total number of parameters: 109489161\n",
      "Authors list: ['shakespeare', 'jonson', 'fletcher', 'ford', 'rowley', 'middleton', 'massinger', 'dekker', 'webster']\n"
     ]
    }
   ],
   "source": [
    "# LOAD FINE-TUNED MODEL FROM DISK\n",
    "\n",
    "from transformers import BertTokenizer\n",
    "tokenizer = BertTokenizer.from_pretrained('bert-base-uncased')\n",
    "model = torch.load('./torch-cache/test2.ckpt', map_location=torch.device('cpu'))\n",
    "print(f\"Total number of parameters: {sum(p.numel() for p in model.parameters())}\")\n",
    "\n",
    "with open('./torch-cache/authors.json') as file:\n",
    "    authors = json.load(file)\n",
    "    print(f\"Authors list: {authors}\")"
   ]
  },
  {
   "cell_type": "code",
   "execution_count": 4,
   "metadata": {},
   "outputs": [],
   "source": [
    "# PORT OF PREPROCESSING SCRIPT USED ON CORPUS\n",
    "\n",
    "import re\n",
    "from typing import List\n",
    "\n",
    "def process_line(line: str) -> str:\n",
    "    result = line\n",
    "\n",
    "    # Remove stuff between brackets\n",
    "    bracket_processed = False\n",
    "    if '[' in line and ']' in line:\n",
    "        fst_bracket_idx = line.index('[')\n",
    "        snd_bracket_idx = line.index(']')\n",
    "        if fst_bracket_idx < snd_bracket_idx:\n",
    "            result = result[:fst_bracket_idx] + result[snd_bracket_idx + 1:]\n",
    "            bracket_processed = True\n",
    "    if not bracket_processed and '[' in line:\n",
    "        fst_bracket_idx = line.index('[')\n",
    "        result = result[:fst_bracket_idx]\n",
    "        bracket_processed = True\n",
    "    if not bracket_processed and ']' in line:\n",
    "        snd_bracket_idx = line.index(']')\n",
    "        result = result[snd_bracket_idx + 1:]\n",
    "        bracket_processed = True\n",
    "\n",
    "    # Remove symbols and ALL CAPS words, and normalize punctuation\n",
    "    result = re.sub(r\"[’‘]\", \"'\", result)\n",
    "    result = re.sub(r\"[_,:;\\[\\]\\{\\}\\(\\)—“”&<>$/\\\\=+\\`^]\", '', result)\n",
    "    result = re.sub(r\"[0-9]\", '', result)\n",
    "    result = result.replace('-', ' ')\n",
    "    result = re.sub(r\"[\\?\\!]\", '.', result)\n",
    "\n",
    "    words = result.split(' ')\n",
    "    words = [word for word in words if not (word.isupper() and len(word) > 1)]\n",
    "    result = ' '.join(words)\n",
    "\n",
    "    return result\n",
    "\n",
    "def process_text(text: str) -> List[str]:\n",
    "    # Remove excess white space and process each line\n",
    "    lines = text.split('\\n')\n",
    "    lines = [line.strip() for line in lines]\n",
    "    lines = [process_line(line) for line in lines]\n",
    "    lines = [line for line in lines if line]\n",
    "    result = ' '.join(lines)\n",
    "\n",
    "    # Clean up sentences\n",
    "    sentences = result.split('.')\n",
    "    sentences = [sentence.strip().lower() for sentence in sentences]\n",
    "    sentences = [sentence.split(' ') for sentence in sentences]\n",
    "    sentences = [[token for token in tokens if token] for tokens in sentences]\n",
    "    sentences = [\n",
    "        [word for word in tokens if not (len(word) == 1 and word in [\n",
    "            'b', 'c', 'f', 'g', 'h', 'j', 'k',\n",
    "            'p', 'q', 'r', 'v', 'w', 'x', 'y', 'z'\n",
    "        ])]\n",
    "        for tokens in sentences\n",
    "    ]\n",
    "    sentences = [' '.join(tokens) for tokens in sentences if len(tokens) > 2]\n",
    "\n",
    "    return sentences"
   ]
  },
  {
   "cell_type": "code",
   "execution_count": 5,
   "metadata": {},
   "outputs": [],
   "source": [
    "# FORMAT INFERENCE INPUT (RAW COPY PASTE) INTO BERT INPUT and MASK\n",
    "\n",
    "# witch of edmonton -> rowley\n",
    "sentence = \"\"\"Win, I have heard the news; all now is safe;\n",
    "The worst is past: thy lip, wench [_Kisses her_]: I must bid\n",
    "Farewell, for fashion's sake; but I will visit thee\n",
    "Suddenly, girl. This was cleanly carried;\n",
    "Ha! was't not, Win?\n",
    "\n",
    "_Win._              Then were my happiness,\n",
    "That I in heart repent I did not bring him\n",
    "The dower of a virginity. Sir, forgive me;\n",
    "I have been much to blame: had not my lewdness[413]\n",
    "Given way to your immoderate waste of virtue,\n",
    "You had not with such eagerness pursued\n",
    "The error of your goodness.\"\"\"\n",
    "\n",
    "# witch of edmonton -> dekker\n",
    "sentence = \"\"\"FRANK _searches first one pocket, then the other, finds\n",
    "the knife, and then lies down.--The ~Dog~ runs off.--The spirit\n",
    "of_ SUSAN _comes to the bed's side_; FRANK\n",
    "_stares at it, and then turns to the other side, but the spirit\n",
    "is there too. Meanwhile enter_ WINNIFRED _as a page,\n",
    "and stands sadly at the bed's foot_.--FRANK _affrighted\n",
    "sits up. The spirit vanishes._\n",
    "_Frank._ What art thou?\n",
    "_Win._                  A lost creature.\n",
    "_Frank._                                 So am I too.--Win?\n",
    "Ah, my she-page!\n",
    "_Win._           For your sake I put on\n",
    "A shape that's false; yet do I wear a heart\n",
    "True to you as your own.\n",
    "\"\"\"\n",
    "\n",
    "\n",
    "sentences = process_text(sentence)\n",
    "tokens = [t for sublist in [tokenizer.tokenize(s) for s in sentences] for t in sublist]\n",
    "\n",
    "MAX_SEQUENCE_LEN = 128\n",
    "current_input = [\"CLS\"]\n",
    "current_input.extend(tokens[0:min(MAX_SEQUENCE_LEN - 2, len(tokens))])\n",
    "current_input.append(\"[SEP]\")\n",
    "mask = [1 for _ in range(len(current_input))]\n",
    "while len(current_input) != MAX_SEQUENCE_LEN:\n",
    "    current_input.append(\"[PAD]\")\n",
    "    mask.append(0)\n",
    "inputs = tokenizer.convert_tokens_to_ids(current_input)"
   ]
  },
  {
   "cell_type": "code",
   "execution_count": 6,
   "metadata": {},
   "outputs": [
    {
     "name": "stderr",
     "output_type": "stream",
     "text": [
      "BertSdpaSelfAttention is used but `torch.nn.functional.scaled_dot_product_attention` does not support non-absolute `position_embedding_type` or `output_attentions=True` or `head_mask`. Falling back to the manual attention implementation, but specifying the manual implementation will be required from Transformers version v5.0.0 onwards. This warning can be removed using the argument `attn_implementation=\"eager\"` when loading the model.\n"
     ]
    },
    {
     "name": "stdout",
     "output_type": "stream",
     "text": [
      "tensor([[  100, 17193,  2034,  2028,  4979,  2059,  1996,  2060,  4858,  1996,\n",
      "          5442,  1998,  2059,  3658,  2091,  1996,  1066,  3899,  1066,  3216,\n",
      "          2125,  1996,  4382,  1997,  3310,  2000,  1996,  2793,  1005,  1055,\n",
      "          2217, 14020,  2012,  2009,  1998,  2059,  4332,  2000,  1996,  2060,\n",
      "          2217,  2021,  1996,  4382,  2003,  2045,  2205,  5564,  4607,  2004,\n",
      "          1037,  3931,  1998,  4832, 13718,  2012,  1996,  2793,  1005,  1055,\n",
      "          3329, 21358, 19699, 18743,  2098,  7719,  2039,  1996,  4382, 25887,\n",
      "          2229,  2054,  2396, 15223,  1037,  2439,  6492,  2061,  2572,  1045,\n",
      "          2205,  6289,  2026,  2016,  3931,  2005,  2115,  8739,  1045,  2404,\n",
      "          2006,  1037,  4338,  2008,  1005,  1055,  6270,  2664,  2079,  1045,\n",
      "          4929,  1037,  2540,  2995,  2000,  2017,  2004,  2115,  2219,   102,\n",
      "             0,     0,     0,     0,     0,     0,     0,     0,     0,     0,\n",
      "             0,     0,     0,     0,     0,     0,     0,     0]])\n",
      "tensor([[ 5.8247e-01, -1.4432e+00, -1.0972e+00,  1.0747e+00,  3.0510e-02,\n",
      "         -1.3955e-03, -9.6472e-01,  3.8160e+00, -2.4805e+00]],\n",
      "       grad_fn=<AddmmBackward0>)\n"
     ]
    }
   ],
   "source": [
    "# RUN INFERENCE\n",
    "\n",
    "x_inputs = torch.tensor(inputs).unsqueeze(0)\n",
    "x_masks = torch.tensor(mask).unsqueeze(0)\n",
    "print(x_inputs)\n",
    "\n",
    "model.eval()\n",
    "outputs = model(x_inputs, token_type_ids=None, attention_mask=x_masks, output_attentions=True) \n",
    "logits = outputs.logits\n",
    "print(logits)"
   ]
  },
  {
   "cell_type": "code",
   "execution_count": 8,
   "metadata": {},
   "outputs": [
    {
     "name": "stderr",
     "output_type": "stream",
     "text": [
      "C:\\Users\\kauhe\\AppData\\Local\\Temp\\ipykernel_7220\\2339357619.py:7: UserWarning: Implicit dimension choice for softmax has been deprecated. Change the call to include dim=X as an argument.\n",
      "  y = np.array(F.softmax(logits).detach().numpy()[0])\n"
     ]
    },
    {
     "data": {
      "image/png": "[encoded data removed]",
      "text/plain": [
       "<Figure size 1600x300 with 1 Axes>"
      ]
     },
     "metadata": {},
     "output_type": "display_data"
    }
   ],
   "source": [
    "# PLOT CLASSIFICATION LOGITS\n",
    "\n",
    "import torch.nn.functional as F\n",
    "import matplotlib.pyplot as plt\n",
    "\n",
    "x = np.array(authors)\n",
    "y = np.array(F.softmax(logits).detach().numpy()[0])\n",
    "\n",
    "plt.figure(figsize=(16, 3))\n",
    "plt.bar(x,y)\n",
    "plt.show()"
   ]
  }
 ],
 "metadata": {
  "kernelspec": {
   "display_name": "authorship-problem",
   "language": "python",
   "name": "python3"
  },
  "language_info": {
   "codemirror_mode": {
    "name": "ipython",
    "version": 3
   },
   "file_extension": ".py",
   "mimetype": "text/x-python",
   "name": "python",
   "nbconvert_exporter": "python",
   "pygments_lexer": "ipython3",
   "version": "3.12.4"
  }
 },
 "nbformat": 4,
 "nbformat_minor": 2
}

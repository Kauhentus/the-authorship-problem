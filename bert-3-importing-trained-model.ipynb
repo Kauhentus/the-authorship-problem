{
 "cells": [
  {
   "cell_type": "code",
   "execution_count": 2,
   "metadata": {},
   "outputs": [],
   "source": [
    "import torch\n",
    "import json\n",
    "import numpy as np\n",
    "import os\n",
    "os.environ[\"KMP_DUPLICATE_LIB_OK\"] = \"TRUE\""
   ]
  },
  {
   "cell_type": "code",
   "execution_count": 3,
   "metadata": {},
   "outputs": [
    {
     "name": "stderr",
     "output_type": "stream",
     "text": [
      "c:\\Users\\kauhe\\anaconda3\\envs\\authorship-problem\\Lib\\site-packages\\tqdm\\auto.py:21: TqdmWarning: IProgress not found. Please update jupyter and ipywidgets. See https://ipywidgets.readthedocs.io/en/stable/user_install.html\n",
      "  from .autonotebook import tqdm as notebook_tqdm\n",
      "C:\\Users\\kauhe\\AppData\\Local\\Temp\\ipykernel_14528\\1684595006.py:5: FutureWarning: You are using `torch.load` with `weights_only=False` (the current default value), which uses the default pickle module implicitly. It is possible to construct malicious pickle data which will execute arbitrary code during unpickling (See https://github.com/pytorch/pytorch/blob/main/SECURITY.md#untrusted-models for more details). In a future release, the default value for `weights_only` will be flipped to `True`. This limits the functions that could be executed during unpickling. Arbitrary objects will no longer be allowed to be loaded via this mode unless they are explicitly allowlisted by the user via `torch.serialization.add_safe_globals`. We recommend you start setting `weights_only=True` for any use case where you don't have full control of the loaded file. Please open an issue on GitHub for any issues related to this experimental feature.\n",
      "  model = torch.load('./torch-cache/test2.ckpt', map_location=torch.device('cpu'))\n"
     ]
    },
    {
     "name": "stdout",
     "output_type": "stream",
     "text": [
      "Total number of parameters: 109489161\n",
      "Authors list: ['dekker', 'fletcher', 'ford', 'jonson', 'massinger', 'middleton', 'rowley', 'shakespeare', 'webster']\n"
     ]
    }
   ],
   "source": [
    "# LOAD FINE-TUNED MODEL FROM DISK\n",
    "\n",
    "from transformers import BertTokenizer\n",
    "tokenizer = BertTokenizer.from_pretrained('bert-base-uncased')\n",
    "model = torch.load('./torch-cache/test2.ckpt', map_location=torch.device('cpu'))\n",
    "print(f\"Total number of parameters: {sum(p.numel() for p in model.parameters())}\")\n",
    "\n",
    "with open('./torch-cache/authors.json') as file:\n",
    "    authors = json.load(file)\n",
    "    print(f\"Authors list: {authors}\")"
   ]
  },
  {
   "cell_type": "code",
   "execution_count": 4,
   "metadata": {},
   "outputs": [],
   "source": [
    "# PORT OF PREPROCESSING SCRIPT USED ON CORPUS\n",
    "\n",
    "import re\n",
    "from typing import List\n",
    "\n",
    "def process_line(line: str) -> str:\n",
    "    result = line\n",
    "\n",
    "    # Remove stuff between brackets\n",
    "    bracket_processed = False\n",
    "    if '[' in line and ']' in line:\n",
    "        fst_bracket_idx = line.index('[')\n",
    "        snd_bracket_idx = line.index(']')\n",
    "        if fst_bracket_idx < snd_bracket_idx:\n",
    "            result = result[:fst_bracket_idx] + result[snd_bracket_idx + 1:]\n",
    "            bracket_processed = True\n",
    "    if not bracket_processed and '[' in line:\n",
    "        fst_bracket_idx = line.index('[')\n",
    "        result = result[:fst_bracket_idx]\n",
    "        bracket_processed = True\n",
    "    if not bracket_processed and ']' in line:\n",
    "        snd_bracket_idx = line.index(']')\n",
    "        result = result[snd_bracket_idx + 1:]\n",
    "        bracket_processed = True\n",
    "\n",
    "    # Remove symbols and ALL CAPS words, and normalize punctuation\n",
    "    result = re.sub(r\"[’‘]\", \"'\", result)\n",
    "    result = re.sub(r\"[_,:;\\[\\]\\{\\}\\(\\)—“”&<>$/\\\\=+\\`^]\", '', result)\n",
    "    result = re.sub(r\"[0-9]\", '', result)\n",
    "    result = result.replace('-', ' ')\n",
    "    result = re.sub(r\"[\\?\\!]\", '.', result)\n",
    "\n",
    "    words = result.split(' ')\n",
    "    words = [word for word in words if not (word.isupper() and len(word) > 1)]\n",
    "    result = ' '.join(words)\n",
    "\n",
    "    return result\n",
    "\n",
    "def process_text(text: str) -> List[str]:\n",
    "    # Remove excess white space and process each line\n",
    "    lines = text.split('\\n')\n",
    "    lines = [line.strip() for line in lines]\n",
    "    lines = [process_line(line) for line in lines]\n",
    "    lines = [line for line in lines if line]\n",
    "    result = ' '.join(lines)\n",
    "\n",
    "    # Clean up sentences\n",
    "    sentences = result.split('.')\n",
    "    sentences = [sentence.strip().lower() for sentence in sentences]\n",
    "    sentences = [sentence.split(' ') for sentence in sentences]\n",
    "    sentences = [[token for token in tokens if token] for tokens in sentences]\n",
    "    sentences = [\n",
    "        [word for word in tokens if not (len(word) == 1 and word in [\n",
    "            'b', 'c', 'f', 'g', 'h', 'j', 'k',\n",
    "            'p', 'q', 'r', 'v', 'w', 'x', 'y', 'z'\n",
    "        ])]\n",
    "        for tokens in sentences\n",
    "    ]\n",
    "    sentences = [' '.join(tokens) for tokens in sentences if len(tokens) > 2]\n",
    "\n",
    "    return sentences"
   ]
  },
  {
   "cell_type": "code",
   "execution_count": 5,
   "metadata": {},
   "outputs": [
    {
     "name": "stdout",
     "output_type": "stream",
     "text": [
      "['CLS', 'so', 'you', 'promised', 'me', 'before', 'in', 'case', 'i', 'married', 'her', 'i', 'know', 'sir', 'arthur', 'cl', '##aring', '##ton', 'deserves', 'the', 'credit', 'report', 'hat', '##h', 'lent', 'him', 'and', 'pre', '##sume', 'you', 'are', 'a', 'debt', '##or', 'to', 'your', 'promise', 'but', 'upon', 'what', 'certainty', 'shall', 'i', 'resolve', 'excuse', 'me', 'for', 'being', 'somewhat', 'rude', 'it', 'is', 'but', 'reason', 'well', 'frank', 'what', 'think', \"'\", 'st', 'thou', 'of', 'two', 'hundred', 'pounds', 'and', 'a', 'continual', 'friend', 'though', 'my', 'poor', 'fortunes', 'might', 'happily', 'prefer', 'me', 'to', 'a', 'choice', 'of', 'a', 'far', 'greater', 'portion', 'yet', 'to', 'right', 'a', 'wrong', '##ed', 'maid', 'and', 'to', 'preserve', 'your', 'favour', 'i', 'am', 'content', 'to', 'accept', 'your', 'prof', '##fer', '[SEP]', '[PAD]', '[PAD]', '[PAD]', '[PAD]', '[PAD]', '[PAD]', '[PAD]', '[PAD]', '[PAD]', '[PAD]', '[PAD]', '[PAD]', '[PAD]', '[PAD]', '[PAD]', '[PAD]', '[PAD]', '[PAD]', '[PAD]', '[PAD]', '[PAD]', '[PAD]']\n"
     ]
    }
   ],
   "source": [
    "# FORMAT INFERENCE INPUT (RAW COPY PASTE) INTO BERT INPUT and MASK\n",
    "\n",
    "sentence = \"\"\"\n",
    "_Frank._                      So you promised me\n",
    "Before, in case I married her. I know\n",
    "Sir Arthur Clarington deserves the credit\n",
    "Report hath lent him, and presume you are\n",
    "A debtor to your promise: but upon\n",
    "What certainty shall I resolve? Excuse me\n",
    "For being somewhat rude.\n",
    "\n",
    "_Sir Arth._              It is but reason.\n",
    "Well, Frank, what think'st thou of two hundred pounds\n",
    "And a continual friend?\n",
    "\n",
    "_Frank._               Though my poor fortunes\n",
    "Might happily prefer me to a choice\n",
    "Of a far greater portion, yet, to right\n",
    "A wrongèd maid and to preserve your favour,\n",
    "I am content to accept your proffer.\n",
    "\n",
    "\"\"\"\n",
    "\n",
    "\n",
    "sentences = process_text(sentence)\n",
    "tokens = [t for sublist in [tokenizer.tokenize(s) for s in sentences] for t in sublist]\n",
    "\n",
    "MAX_SEQUENCE_LEN = 128\n",
    "current_input = [\"CLS\"]\n",
    "current_input.extend(tokens[0:min(MAX_SEQUENCE_LEN - 2, len(tokens))])\n",
    "current_input.append(\"[SEP]\")\n",
    "mask = [1 for _ in range(len(current_input))]\n",
    "while len(current_input) != MAX_SEQUENCE_LEN:\n",
    "    current_input.append(\"[PAD]\")\n",
    "    mask.append(0)\n",
    "print(current_input)\n",
    "inputs = tokenizer.convert_tokens_to_ids(current_input)"
   ]
  },
  {
   "cell_type": "code",
   "execution_count": 6,
   "metadata": {},
   "outputs": [
    {
     "name": "stderr",
     "output_type": "stream",
     "text": [
      "BertSdpaSelfAttention is used but `torch.nn.functional.scaled_dot_product_attention` does not support non-absolute `position_embedding_type` or `output_attentions=True` or `head_mask`. Falling back to the manual attention implementation, but specifying the manual implementation will be required from Transformers version v5.0.0 onwards. This warning can be removed using the argument `attn_implementation=\"eager\"` when loading the model.\n"
     ]
    },
    {
     "name": "stdout",
     "output_type": "stream",
     "text": [
      "tensor([[  100,  2061,  2017,  5763,  2033,  2077,  1999,  2553,  1045,  2496,\n",
      "          2014,  1045,  2113,  2909,  4300, 18856, 22397,  2669, 17210,  1996,\n",
      "          4923,  3189,  6045,  2232, 15307,  2032,  1998,  3653, 23545,  2017,\n",
      "          2024,  1037,  7016,  2953,  2000,  2115,  4872,  2021,  2588,  2054,\n",
      "         15855,  4618,  1045, 10663,  8016,  2033,  2005,  2108,  5399, 12726,\n",
      "          2009,  2003,  2021,  3114,  2092,  3581,  2054,  2228,  1005,  2358,\n",
      "         15223,  1997,  2048,  3634,  7038,  1998,  1037, 27222,  2767,  2295,\n",
      "          2026,  3532, 18023,  2453, 11361,  9544,  2033,  2000,  1037,  3601,\n",
      "          1997,  1037,  2521,  3618,  4664,  2664,  2000,  2157,  1037,  3308,\n",
      "          2098, 10850,  1998,  2000,  7969,  2115,  7927,  1045,  2572,  4180,\n",
      "          2000,  5138,  2115, 11268,  7512,   102,     0,     0,     0,     0,\n",
      "             0,     0,     0,     0,     0,     0,     0,     0,     0,     0,\n",
      "             0,     0,     0,     0,     0,     0,     0,     0]])\n",
      "tensor([[ 0.7668,  0.9704, -2.4453,  0.4920, -1.6593, -0.6071,  2.9075, -2.4539,\n",
      "          0.6162]], grad_fn=<AddmmBackward0>)\n"
     ]
    }
   ],
   "source": [
    "# RUN INFERENCE\n",
    "\n",
    "x_inputs = torch.tensor(inputs).unsqueeze(0)\n",
    "x_masks = torch.tensor(mask).unsqueeze(0)\n",
    "print(x_inputs)\n",
    "\n",
    "model.eval()\n",
    "outputs = model(x_inputs, token_type_ids=None, attention_mask=x_masks, output_attentions=True) \n",
    "logits = outputs.logits\n",
    "print(logits)"
   ]
  },
  {
   "cell_type": "code",
   "execution_count": 7,
   "metadata": {},
   "outputs": [
    {
     "name": "stderr",
     "output_type": "stream",
     "text": [
      "C:\\Users\\kauhe\\AppData\\Local\\Temp\\ipykernel_14528\\2339357619.py:7: UserWarning: Implicit dimension choice for softmax has been deprecated. Change the call to include dim=X as an argument.\n",
      "  y = np.array(F.softmax(logits).detach().numpy()[0])\n"
     ]
    },
    {
     "data": {
      "image/png": "[encoded data removed]",
      "text/plain": [
       "<Figure size 1600x300 with 1 Axes>"
      ]
     },
     "metadata": {},
     "output_type": "display_data"
    }
   ],
   "source": [
    "# PLOT CLASSIFICATION LOGITS\n",
    "\n",
    "import torch.nn.functional as F\n",
    "import matplotlib.pyplot as plt\n",
    "\n",
    "x = np.array(authors)\n",
    "y = np.array(F.softmax(logits).detach().numpy()[0])\n",
    "\n",
    "plt.figure(figsize=(16, 3))\n",
    "plt.bar(x,y)\n",
    "plt.show()"
   ]
  },
  {
   "cell_type": "code",
   "execution_count": 8,
   "metadata": {},
   "outputs": [],
   "source": [
    "a = outputs.attentions"
   ]
  },
  {
   "cell_type": "code",
   "execution_count": 9,
   "metadata": {},
   "outputs": [
    {
     "name": "stdout",
     "output_type": "stream",
     "text": [
      "12 torch.Size([1, 12, 128, 128])\n"
     ]
    }
   ],
   "source": [
    "print(len(a), a[0].shape)\n",
    "out = np.stack([head.detach().numpy() for head in a], axis=0).squeeze(1)\n",
    "\n",
    "nested_list = out.tolist()\n",
    "json_data = json.dumps(nested_list)\n",
    "with open(\"./attention_data.json\", \"w\") as f:\n",
    "    f.write(json_data)"
   ]
  }
 ],
 "metadata": {
  "kernelspec": {
   "display_name": "authorship-problem",
   "language": "python",
   "name": "python3"
  },
  "language_info": {
   "codemirror_mode": {
    "name": "ipython",
    "version": 3
   },
   "file_extension": ".py",
   "mimetype": "text/x-python",
   "name": "python",
   "nbconvert_exporter": "python",
   "pygments_lexer": "ipython3",
   "version": "3.12.4"
  }
 },
 "nbformat": 4,
 "nbformat_minor": 2
}
